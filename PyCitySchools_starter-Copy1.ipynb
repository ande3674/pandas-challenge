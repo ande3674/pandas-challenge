{
 "cells": [
  {
   "cell_type": "markdown",
   "metadata": {},
   "source": [
    "### Note\n",
    "* Instructions have been included for each segment. You do not have to follow them exactly, but they are included to help you think through the steps."
   ]
  },
  {
   "cell_type": "code",
   "execution_count": 15,
   "metadata": {},
   "outputs": [
    {
     "data": {
      "text/plain": [
       "39170"
      ]
     },
     "execution_count": 15,
     "metadata": {},
     "output_type": "execute_result"
    }
   ],
   "source": [
    "# Dependencies and Setup\n",
    "import pandas as pd\n",
    "\n",
    "# File to Load (Remember to Change These)\n",
    "school_data_to_load = \"Resources/schools_complete.csv\"\n",
    "student_data_to_load = \"Resources/students_complete.csv\"\n",
    "\n",
    "# Read School and Student Data File and store into Pandas DataFrames\n",
    "school_data_df = pd.read_csv(school_data_to_load)\n",
    "student_data_df = pd.read_csv(student_data_to_load)\n",
    "\n",
    "# Combine the data into a single dataset.  \n",
    "school_data_complete_df = pd.merge(student_data_df, school_data_df, how=\"left\", on=[\"school_name\", \"school_name\"])\n",
    "#school_data_df.head(15)\n",
    "len(student_data_df)#.head(15)\n",
    "#school_data_complete_df.head()"
   ]
  },
  {
   "cell_type": "markdown",
   "metadata": {},
   "source": [
    "## District Summary\n",
    "\n",
    "* Calculate the total number of schools\n",
    "\n",
    "* Calculate the total number of students\n",
    "\n",
    "* Calculate the total budget\n",
    "\n",
    "* Calculate the average math score \n",
    "\n",
    "* Calculate the average reading score\n",
    "\n",
    "* Calculate the percentage of students with a passing math score (70 or greater)\n",
    "\n",
    "* Calculate the percentage of students with a passing reading score (70 or greater)\n",
    "\n",
    "* Calculate the percentage of students who passed math **and** reading (% Overall Passing)\n",
    "\n",
    "* Create a dataframe to hold the above results\n",
    "\n",
    "* Optional: give the displayed data cleaner formatting"
   ]
  },
  {
   "cell_type": "code",
   "execution_count": 2,
   "metadata": {},
   "outputs": [
    {
     "data": {
      "text/html": [
       "<div>\n",
       "<style scoped>\n",
       "    .dataframe tbody tr th:only-of-type {\n",
       "        vertical-align: middle;\n",
       "    }\n",
       "\n",
       "    .dataframe tbody tr th {\n",
       "        vertical-align: top;\n",
       "    }\n",
       "\n",
       "    .dataframe thead th {\n",
       "        text-align: right;\n",
       "    }\n",
       "</style>\n",
       "<table border=\"1\" class=\"dataframe\">\n",
       "  <thead>\n",
       "    <tr style=\"text-align: right;\">\n",
       "      <th></th>\n",
       "      <th>Total Schools</th>\n",
       "      <th>Total Students</th>\n",
       "      <th>Total Budget</th>\n",
       "      <th>Average Math Score</th>\n",
       "      <th>Average Reading Score</th>\n",
       "      <th>% Passing Math</th>\n",
       "      <th>% Passing Reading</th>\n",
       "      <th>% Overall Passing</th>\n",
       "    </tr>\n",
       "  </thead>\n",
       "  <tbody>\n",
       "    <tr>\n",
       "      <th>0</th>\n",
       "      <td>15</td>\n",
       "      <td>39,170</td>\n",
       "      <td>$24,649,428</td>\n",
       "      <td>%78.99</td>\n",
       "      <td>%81.88</td>\n",
       "      <td>%74.98</td>\n",
       "      <td>%85.81</td>\n",
       "      <td>%65.17</td>\n",
       "    </tr>\n",
       "  </tbody>\n",
       "</table>\n",
       "</div>"
      ],
      "text/plain": [
       "   Total Schools Total Students Total Budget Average Math Score  \\\n",
       "0             15         39,170  $24,649,428             %78.99   \n",
       "\n",
       "  Average Reading Score % Passing Math % Passing Reading % Overall Passing  \n",
       "0                %81.88         %74.98            %85.81            %65.17  "
      ]
     },
     "execution_count": 2,
     "metadata": {},
     "output_type": "execute_result"
    }
   ],
   "source": [
    "# total schools\n",
    "total_schools = school_data_complete_df[\"school_name\"].nunique()\n",
    "\n",
    "# total num students\n",
    "total_students = len(school_data_complete_df)\n",
    "\n",
    "# total budget\n",
    "#group_by_school_df = school_data_complete_df.groupby([\"school_name\"])\n",
    "total_budget = school_data_df[\"budget\"].sum()\n",
    "\n",
    "# average math score\n",
    "ave_math = school_data_complete_df[\"math_score\"].mean()\n",
    "\n",
    "# average reading score\n",
    "ave_reading = school_data_complete_df[\"reading_score\"].mean()\n",
    "\n",
    "# percent students with passing math score (70 or greater)\n",
    "total_passing_math = len(school_data_complete_df.loc[school_data_complete_df[\"math_score\"] >= 70, :])\n",
    "percent_passing_math = total_passing_math / total_students * 100\n",
    "\n",
    "# percent students with passing reading score (70 or greater)\n",
    "total_passing_reading = len(school_data_complete_df.loc[school_data_complete_df[\"reading_score\"] >= 70, :])\n",
    "percent_passing_reading = total_passing_reading / total_students * 100\n",
    "percent_passing_reading\n",
    "\n",
    "# percent students with passing math AND reading score (70 or greater) - Calculate percent overall passing\n",
    "total_passing_math_and_reading = len(school_data_complete_df.loc[ (school_data_complete_df[\"reading_score\"] >= 70) &\n",
    "                                                              (school_data_complete_df[\"math_score\"] >= 70) ])\n",
    "percent_passing_math_and_reading = total_passing_math_and_reading / total_students * 100\n",
    "# percent_passing_math_and_reading\n",
    "# percent_passing_reading\n",
    "# percent_passing_math\n",
    "\n",
    "# create a datagframe to hold all of the above data\n",
    "summary_df = pd.DataFrame({\"Total Schools\" : [total_schools],\n",
    "                          \"Total Students\" : f'{total_students:,}',\n",
    "                          \"Total Budget\" : f'${total_budget:,}',\n",
    "                          \"Average Math Score\" : f'%{ave_math:.2f}',\n",
    "                          \"Average Reading Score\" : f'%{ave_reading:.2f}',\n",
    "                          \"% Passing Math\" : f'%{percent_passing_math:.2f}',\n",
    "                          \"% Passing Reading\" : f'%{percent_passing_reading:.2f}',\n",
    "                          \"% Overall Passing\" : f'%{percent_passing_math_and_reading:.2f}'})\n",
    "summary_df\n"
   ]
  },
  {
   "cell_type": "markdown",
   "metadata": {},
   "source": [
    "## School Summary"
   ]
  },
  {
   "cell_type": "markdown",
   "metadata": {},
   "source": [
    "* Create an overview table that summarizes key metrics about each school, including:\n",
    "  * School Name\n",
    "  * School Type\n",
    "  * Total Students\n",
    "  * Total School Budget\n",
    "  * Per Student Budget\n",
    "  * Average Math Score\n",
    "  * Average Reading Score\n",
    "  * % Passing Math\n",
    "  * % Passing Reading\n",
    "  * % Overall Passing (The percentage of students that passed math **and** reading.)\n",
    "  \n",
    "* Create a dataframe to hold the above results"
   ]
  },
  {
   "cell_type": "code",
   "execution_count": 27,
   "metadata": {},
   "outputs": [
    {
     "data": {
      "text/plain": [
       "0.6668006430868167"
      ]
     },
     "execution_count": 27,
     "metadata": {},
     "output_type": "execute_result"
    }
   ],
   "source": [
    "# First grab the columns we need directly from the school dataframe\n",
    "school_summary_df = school_data_df[[\"school_name\", \"type\", \"size\", \"budget\"]]\n",
    "school_summary_df = school_summary_df.rename(columns={\"school_name\": \"School Name\", \"type\": \"School Type\", \"size\": \"Total Students\", \"budget\": \"Total School Budget\"})\n",
    "school_summary_df = school_summary_df.set_index(\"School Name\")\n",
    "\n",
    "# Need to divide the Budget column by the Students column for the Per Student Budget\n",
    "school_summary_df['Per Student Budget'] = school_summary_df[\"Total School Budget\"] / school_summary_df[\"Total Students\"]\n",
    "\n",
    "# Calculate average math and reading scores\n",
    "# Students df --> Group by school --> average of math / reading scores\n",
    "students_grouped_school = student_data_df.groupby('school_name')\n",
    "means_df = students_grouped_school.mean()\n",
    "# put the columns into the school summary df\n",
    "school_summary_df['Average Math Score'] = means_df['math_score']\n",
    "school_summary_df['Average Reading Score'] = means_df['reading_score']\n",
    "\n",
    "# Percent passing math and reading\n",
    "pm = students_grouped_school.apply(lambda g: g[g['math_score'] >= 70])\n",
    "pr = students_grouped_school.apply(lambda g: g[g['reading_score'] >= 70])\n",
    "# Below gives the correct percentages for one school\n",
    "# TODO Lambda it over all schools and add to dataframe\n",
    "len(pr.loc[\"Bailey High School\"])/school_summary_df.loc[\"Bailey High School\", \"Total Students\"]\n",
    "len(pm.loc[\"Bailey High School\"])/school_summary_df.loc[\"Bailey High School\", \"Total Students\"]\n",
    "\n",
    "# % Passing overall\n",
    "\n",
    "#school_summary_df.head(16)"
   ]
  },
  {
   "cell_type": "markdown",
   "metadata": {},
   "source": [
    "## Top Performing Schools (By % Overall Passing)"
   ]
  },
  {
   "cell_type": "markdown",
   "metadata": {},
   "source": [
    "* Sort and display the top five performing schools by % overall passing."
   ]
  },
  {
   "cell_type": "code",
   "execution_count": null,
   "metadata": {
    "scrolled": true
   },
   "outputs": [],
   "source": []
  },
  {
   "cell_type": "markdown",
   "metadata": {},
   "source": [
    "## Bottom Performing Schools (By % Overall Passing)"
   ]
  },
  {
   "cell_type": "markdown",
   "metadata": {},
   "source": [
    "* Sort and display the five worst-performing schools by % overall passing."
   ]
  },
  {
   "cell_type": "code",
   "execution_count": null,
   "metadata": {},
   "outputs": [],
   "source": []
  },
  {
   "cell_type": "markdown",
   "metadata": {
    "collapsed": true
   },
   "source": [
    "## Math Scores by Grade"
   ]
  },
  {
   "cell_type": "markdown",
   "metadata": {},
   "source": [
    "* Create a table that lists the average Reading Score for students of each grade level (9th, 10th, 11th, 12th) at each school.\n",
    "\n",
    "  * Create a pandas series for each grade. Hint: use a conditional statement.\n",
    "  \n",
    "  * Group each series by school\n",
    "  \n",
    "  * Combine the series into a dataframe\n",
    "  \n",
    "  * Optional: give the displayed data cleaner formatting"
   ]
  },
  {
   "cell_type": "code",
   "execution_count": null,
   "metadata": {},
   "outputs": [],
   "source": []
  },
  {
   "cell_type": "markdown",
   "metadata": {},
   "source": [
    "## Reading Score by Grade "
   ]
  },
  {
   "cell_type": "markdown",
   "metadata": {},
   "source": [
    "* Perform the same operations as above for reading scores"
   ]
  },
  {
   "cell_type": "code",
   "execution_count": null,
   "metadata": {},
   "outputs": [],
   "source": []
  },
  {
   "cell_type": "markdown",
   "metadata": {},
   "source": [
    "## Scores by School Spending"
   ]
  },
  {
   "cell_type": "markdown",
   "metadata": {},
   "source": [
    "* Create a table that breaks down school performances based on average Spending Ranges (Per Student). Use 4 reasonable bins to group school spending. Include in the table each of the following:\n",
    "  * Average Math Score\n",
    "  * Average Reading Score\n",
    "  * % Passing Math\n",
    "  * % Passing Reading\n",
    "  * Overall Passing Rate (Average of the above two)"
   ]
  },
  {
   "cell_type": "code",
   "execution_count": null,
   "metadata": {},
   "outputs": [],
   "source": []
  },
  {
   "cell_type": "markdown",
   "metadata": {},
   "source": [
    "## Scores by School Size"
   ]
  },
  {
   "cell_type": "markdown",
   "metadata": {},
   "source": [
    "* Perform the same operations as above, based on school size."
   ]
  },
  {
   "cell_type": "code",
   "execution_count": null,
   "metadata": {
    "scrolled": true
   },
   "outputs": [],
   "source": []
  },
  {
   "cell_type": "markdown",
   "metadata": {},
   "source": [
    "## Scores by School Type"
   ]
  },
  {
   "cell_type": "markdown",
   "metadata": {},
   "source": [
    "* Perform the same operations as above, based on school type"
   ]
  },
  {
   "cell_type": "code",
   "execution_count": null,
   "metadata": {},
   "outputs": [],
   "source": []
  },
  {
   "cell_type": "code",
   "execution_count": null,
   "metadata": {},
   "outputs": [],
   "source": []
  }
 ],
 "metadata": {
  "anaconda-cloud": {},
  "kernel_info": {
   "name": "python3"
  },
  "kernelspec": {
   "display_name": "Python 3",
   "language": "python",
   "name": "python3"
  },
  "language_info": {
   "codemirror_mode": {
    "name": "ipython",
    "version": 3
   },
   "file_extension": ".py",
   "mimetype": "text/x-python",
   "name": "python",
   "nbconvert_exporter": "python",
   "pygments_lexer": "ipython3",
   "version": "3.7.6"
  },
  "latex_envs": {
   "LaTeX_envs_menu_present": true,
   "autoclose": false,
   "autocomplete": true,
   "bibliofile": "biblio.bib",
   "cite_by": "apalike",
   "current_citInitial": 1,
   "eqLabelWithNumbers": true,
   "eqNumInitial": 1,
   "hotkeys": {
    "equation": "Ctrl-E",
    "itemize": "Ctrl-I"
   },
   "labels_anchors": false,
   "latex_user_defs": false,
   "report_style_numbering": false,
   "user_envs_cfg": false
  },
  "nteract": {
   "version": "0.8.4"
  }
 },
 "nbformat": 4,
 "nbformat_minor": 1
}
